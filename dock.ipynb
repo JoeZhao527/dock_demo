{
 "cells": [
  {
   "cell_type": "code",
   "execution_count": 1,
   "metadata": {},
   "outputs": [
    {
     "name": "stderr",
     "output_type": "stream",
     "text": [
      "/Users/joezhao/miniconda3/envs/enzygen/lib/python3.8/site-packages/Bio/PDB/StructureBuilder.py:89: PDBConstructionWarning: WARNING: Chain A is discontinuous at line 10361.\n",
      "  warnings.warn(\n",
      "/Users/joezhao/miniconda3/envs/enzygen/lib/python3.8/site-packages/Bio/PDB/StructureBuilder.py:89: PDBConstructionWarning: WARNING: Chain B is discontinuous at line 10384.\n",
      "  warnings.warn(\n",
      "/Users/joezhao/miniconda3/envs/enzygen/lib/python3.8/site-packages/Bio/PDB/StructureBuilder.py:89: PDBConstructionWarning: WARNING: Chain C is discontinuous at line 10415.\n",
      "  warnings.warn(\n",
      "/Users/joezhao/miniconda3/envs/enzygen/lib/python3.8/site-packages/Bio/PDB/StructureBuilder.py:89: PDBConstructionWarning: WARNING: Chain D is discontinuous at line 10433.\n",
      "  warnings.warn(\n",
      "/Users/joezhao/miniconda3/envs/enzygen/lib/python3.8/site-packages/Bio/PDB/StructureBuilder.py:89: PDBConstructionWarning: WARNING: Chain E is discontinuous at line 10443.\n",
      "  warnings.warn(\n",
      "/Users/joezhao/miniconda3/envs/enzygen/lib/python3.8/site-packages/Bio/PDB/StructureBuilder.py:89: PDBConstructionWarning: WARNING: Chain F is discontinuous at line 10463.\n",
      "  warnings.warn(\n"
     ]
    }
   ],
   "source": [
    "from Bio.PDB import *\n",
    "\n",
    "# Parse CIF file\n",
    "parser = MMCIFParser()\n",
    "structure = parser.get_structure(\"5b6m\", \"5b6m.cif\")\n",
    "\n",
    "# Extract chain A\n",
    "class ChainA(Select):\n",
    "    def accept_chain(self, chain):\n",
    "        return 1 if chain.id == \"A\" else 0\n",
    "\n",
    "io = MMCIFIO()\n",
    "io.set_structure(structure)\n",
    "io.save(\"5b6m_chainA.cif\", ChainA())"
   ]
  },
  {
   "cell_type": "code",
   "execution_count": 14,
   "metadata": {},
   "outputs": [
    {
     "name": "stdout",
     "output_type": "stream",
     "text": [
      "AutoDock Vina v1.2.5\n",
      "#################################################################\n",
      "# If you used AutoDock Vina in your work, please cite:          #\n",
      "#                                                               #\n",
      "# J. Eberhardt, D. Santos-Martins, A. F. Tillack, and S. Forli  #\n",
      "# AutoDock Vina 1.2.0: New Docking Methods, Expanded Force      #\n",
      "# Field, and Python Bindings, J. Chem. Inf. Model. (2021)       #\n",
      "# DOI 10.1021/acs.jcim.1c00203                                  #\n",
      "#                                                               #\n",
      "# O. Trott, A. J. Olson,                                        #\n",
      "# AutoDock Vina: improving the speed and accuracy of docking    #\n",
      "# with a new scoring function, efficient optimization and       #\n",
      "# multithreading, J. Comp. Chem. (2010)                         #\n",
      "# DOI 10.1002/jcc.21334                                         #\n",
      "#                                                               #\n",
      "# Please see https://github.com/ccsb-scripps/AutoDock-Vina for  #\n",
      "# more information.                                             #\n",
      "#################################################################\n",
      "\n",
      "Scoring function : vina\n",
      "Rigid receptor: 5b6m_chainA.pdbqt\n",
      "Ligand: substrate.pdbqt\n",
      "Grid center: X 0 Y 0 Z 0\n",
      "Grid size  : X 100 Y 100 Z 100\n",
      "Grid space : 0.375\n",
      "Exhaustiveness: 32\n",
      "CPU: 0\n",
      "Verbosity: 1\n",
      "\n"
     ]
    },
    {
     "name": "stderr",
     "output_type": "stream",
     "text": [
      "WARNING: Search space volume is greater than 27000 Angstrom^3 (See FAQ)\n"
     ]
    },
    {
     "name": "stdout",
     "output_type": "stream",
     "text": [
      "Computing Vina grid ... done.\n",
      "Performing docking (random seed: 234707339) ... \n",
      "0%   10   20   30   40   50   60   70   80   90   100%\n",
      "|----|----|----|----|----|----|----|----|----|----|\n",
      "***************************************************\n",
      "\n",
      "mode |   affinity | dist from best mode\n",
      "     | (kcal/mol) | rmsd l.b.| rmsd u.b.\n",
      "-----+------------+----------+----------\n",
      "   1       -2.822          0          0\n",
      "   2       -2.812       46.8      47.02\n",
      "   3       -2.307      43.49      43.51\n",
      "   4       -2.284       40.6      40.65\n",
      "   5       -2.262       41.5      41.66\n",
      "   6       -2.189      41.79       41.9\n",
      "   7       -2.187       37.5      37.78\n",
      "   8       -2.097      34.25      34.36\n",
      "   9       -2.054      27.83       28.1\n",
      "  10       -2.053       44.1      44.32\n"
     ]
    },
    {
     "data": {
      "text/plain": [
       "CompletedProcess(args=['vina', '--receptor', '5b6m_chainA.pdbqt', '--ligand', 'substrate.pdbqt', '--center_x', '0.0', '--center_y', '0.0', '--center_z', '0.0', '--size_x', '100', '--size_y', '100', '--size_z', '100', '--exhaustiveness', '32', '--num_modes', '10', '--energy_range', '4', '--out', 'docking_results.pdbqt'], returncode=0)"
      ]
     },
     "execution_count": 14,
     "metadata": {},
     "output_type": "execute_result"
    }
   ],
   "source": [
    "import subprocess\n",
    "\n",
    "# Define docking parameters (adjust coordinates!)\n",
    "center_x = 0.0  # Center of mass (see below to calculate)\n",
    "center_y = 0.0\n",
    "center_z = 0.0\n",
    "size_x = 100    # Adjust to cover the entire protein\n",
    "size_y = 100\n",
    "size_z = 100\n",
    "\n",
    "vina_cmd = [\n",
    "    \"vina\",\n",
    "    \"--receptor\", \"5b6m_chainA.pdbqt\",\n",
    "    \"--ligand\", \"substrate.pdbqt\",\n",
    "    \"--center_x\", str(center_x),\n",
    "    \"--center_y\", str(center_y),\n",
    "    \"--center_z\", str(center_z),\n",
    "    \"--size_x\", str(size_x),\n",
    "    \"--size_y\", str(size_y),\n",
    "    \"--size_z\", str(size_z),\n",
    "    \"--exhaustiveness\", \"32\",\n",
    "    \"--num_modes\", \"10\",\n",
    "    \"--energy_range\", \"4\",\n",
    "    \"--out\", \"docking_results.pdbqt\"\n",
    "]\n",
    "\n",
    "subprocess.run(vina_cmd, check=True)"
   ]
  }
 ],
 "metadata": {
  "kernelspec": {
   "display_name": "enzygen",
   "language": "python",
   "name": "python3"
  },
  "language_info": {
   "codemirror_mode": {
    "name": "ipython",
    "version": 3
   },
   "file_extension": ".py",
   "mimetype": "text/x-python",
   "name": "python",
   "nbconvert_exporter": "python",
   "pygments_lexer": "ipython3",
   "version": "3.8.20"
  }
 },
 "nbformat": 4,
 "nbformat_minor": 2
}
